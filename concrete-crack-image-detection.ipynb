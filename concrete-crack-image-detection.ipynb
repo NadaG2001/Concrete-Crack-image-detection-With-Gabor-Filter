{
 "cells": [
  {
   "cell_type": "markdown",
   "metadata": {},
   "source": [
    "# concrete-crack-image-detection-With-Gabor-Filter"
   ]
  },
  {
   "cell_type": "code",
   "execution_count": 153,
   "metadata": {
    "execution": {
     "iopub.execute_input": "2023-03-18T16:38:17.471041Z",
     "iopub.status.busy": "2023-03-18T16:38:17.470580Z",
     "iopub.status.idle": "2023-03-18T16:38:17.476172Z",
     "shell.execute_reply": "2023-03-18T16:38:17.475138Z",
     "shell.execute_reply.started": "2023-03-18T16:38:17.471001Z"
    }
   },
   "outputs": [],
   "source": [
    "import numpy as np\n",
    "import pandas as pd\n",
    "\n",
    "import matplotlib.pyplot as plt\n",
    "import seaborn as sns\n",
    "import plotly.express as px\n",
    "\n",
    "from pathlib import Path\n",
    "from sklearn.model_selection import train_test_split\n",
    "\n",
    "import tensorflow as tf\n",
    "\n",
    "from sklearn.metrics import confusion_matrix, classification_report"
   ]
  },
  {
   "cell_type": "code",
   "execution_count": 154,
   "metadata": {
    "execution": {
     "iopub.execute_input": "2023-03-18T16:38:17.485867Z",
     "iopub.status.busy": "2023-03-18T16:38:17.485558Z",
     "iopub.status.idle": "2023-03-18T16:38:17.491779Z",
     "shell.execute_reply": "2023-03-18T16:38:17.491042Z",
     "shell.execute_reply.started": "2023-03-18T16:38:17.485823Z"
    }
   },
   "outputs": [],
   "source": [
    "positive_dir = Path('../input/surface-crack-detection/Positive')\n",
    "negative_dir = Path('../input/surface-crack-detection/Negative')"
   ]
  },
  {
   "cell_type": "markdown",
   "metadata": {},
   "source": [
    "# Creating DataFrames"
   ]
  },
  {
   "cell_type": "code",
   "execution_count": 155,
   "metadata": {
    "execution": {
     "iopub.execute_input": "2023-03-18T16:38:17.505337Z",
     "iopub.status.busy": "2023-03-18T16:38:17.505092Z",
     "iopub.status.idle": "2023-03-18T16:38:17.509957Z",
     "shell.execute_reply": "2023-03-18T16:38:17.509168Z",
     "shell.execute_reply.started": "2023-03-18T16:38:17.505312Z"
    }
   },
   "outputs": [],
   "source": [
    "def generate_df(image_dir, label):\n",
    "    filepaths = pd.Series(list(image_dir.glob(r'*.jpg')), name='Filepath').astype(str)\n",
    "    labels = pd.Series(label, name='Label', index=filepaths.index)\n",
    "    df = pd.concat([filepaths, labels], axis=1)\n",
    "    return df"
   ]
  },
  {
   "cell_type": "code",
   "execution_count": 156,
   "metadata": {
    "execution": {
     "iopub.execute_input": "2023-03-18T16:38:17.524746Z",
     "iopub.status.busy": "2023-03-18T16:38:17.524511Z",
     "iopub.status.idle": "2023-03-18T16:38:17.720458Z",
     "shell.execute_reply": "2023-03-18T16:38:17.719549Z",
     "shell.execute_reply.started": "2023-03-18T16:38:17.524721Z"
    }
   },
   "outputs": [
    {
     "data": {
      "text/html": [
       "<div>\n",
       "<style scoped>\n",
       "    .dataframe tbody tr th:only-of-type {\n",
       "        vertical-align: middle;\n",
       "    }\n",
       "\n",
       "    .dataframe tbody tr th {\n",
       "        vertical-align: top;\n",
       "    }\n",
       "\n",
       "    .dataframe thead th {\n",
       "        text-align: right;\n",
       "    }\n",
       "</style>\n",
       "<table border=\"1\" class=\"dataframe\">\n",
       "  <thead>\n",
       "    <tr style=\"text-align: right;\">\n",
       "      <th></th>\n",
       "      <th>Filepath</th>\n",
       "      <th>Label</th>\n",
       "    </tr>\n",
       "  </thead>\n",
       "  <tbody>\n",
       "    <tr>\n",
       "      <th>0</th>\n",
       "      <td>../input/surface-crack-detection/Positive/0574...</td>\n",
       "      <td>POSITIVE</td>\n",
       "    </tr>\n",
       "    <tr>\n",
       "      <th>1</th>\n",
       "      <td>../input/surface-crack-detection/Positive/1870...</td>\n",
       "      <td>POSITIVE</td>\n",
       "    </tr>\n",
       "    <tr>\n",
       "      <th>2</th>\n",
       "      <td>../input/surface-crack-detection/Positive/0967...</td>\n",
       "      <td>POSITIVE</td>\n",
       "    </tr>\n",
       "    <tr>\n",
       "      <th>3</th>\n",
       "      <td>../input/surface-crack-detection/Negative/0791...</td>\n",
       "      <td>NEGATIVE</td>\n",
       "    </tr>\n",
       "    <tr>\n",
       "      <th>4</th>\n",
       "      <td>../input/surface-crack-detection/Positive/1400...</td>\n",
       "      <td>POSITIVE</td>\n",
       "    </tr>\n",
       "    <tr>\n",
       "      <th>...</th>\n",
       "      <td>...</td>\n",
       "      <td>...</td>\n",
       "    </tr>\n",
       "    <tr>\n",
       "      <th>39995</th>\n",
       "      <td>../input/surface-crack-detection/Positive/0854...</td>\n",
       "      <td>POSITIVE</td>\n",
       "    </tr>\n",
       "    <tr>\n",
       "      <th>39996</th>\n",
       "      <td>../input/surface-crack-detection/Negative/1944...</td>\n",
       "      <td>NEGATIVE</td>\n",
       "    </tr>\n",
       "    <tr>\n",
       "      <th>39997</th>\n",
       "      <td>../input/surface-crack-detection/Positive/0977...</td>\n",
       "      <td>POSITIVE</td>\n",
       "    </tr>\n",
       "    <tr>\n",
       "      <th>39998</th>\n",
       "      <td>../input/surface-crack-detection/Positive/1504...</td>\n",
       "      <td>POSITIVE</td>\n",
       "    </tr>\n",
       "    <tr>\n",
       "      <th>39999</th>\n",
       "      <td>../input/surface-crack-detection/Negative/1099...</td>\n",
       "      <td>NEGATIVE</td>\n",
       "    </tr>\n",
       "  </tbody>\n",
       "</table>\n",
       "<p>40000 rows × 2 columns</p>\n",
       "</div>"
      ],
      "text/plain": [
       "                                                Filepath     Label\n",
       "0      ../input/surface-crack-detection/Positive/0574...  POSITIVE\n",
       "1      ../input/surface-crack-detection/Positive/1870...  POSITIVE\n",
       "2      ../input/surface-crack-detection/Positive/0967...  POSITIVE\n",
       "3      ../input/surface-crack-detection/Negative/0791...  NEGATIVE\n",
       "4      ../input/surface-crack-detection/Positive/1400...  POSITIVE\n",
       "...                                                  ...       ...\n",
       "39995  ../input/surface-crack-detection/Positive/0854...  POSITIVE\n",
       "39996  ../input/surface-crack-detection/Negative/1944...  NEGATIVE\n",
       "39997  ../input/surface-crack-detection/Positive/0977...  POSITIVE\n",
       "39998  ../input/surface-crack-detection/Positive/1504...  POSITIVE\n",
       "39999  ../input/surface-crack-detection/Negative/1099...  NEGATIVE\n",
       "\n",
       "[40000 rows x 2 columns]"
      ]
     },
     "execution_count": 156,
     "metadata": {},
     "output_type": "execute_result"
    }
   ],
   "source": [
    "positive_df = generate_df(positive_dir, label=\"POSITIVE\")\n",
    "negative_df = generate_df(negative_dir, label=\"NEGATIVE\")\n",
    "\n",
    "all_df = pd.concat([positive_df, negative_df], axis=0).sample(frac=1.0, random_state=1).reset_index(drop=True)\n",
    "all_df"
   ]
  },
  {
   "cell_type": "code",
   "execution_count": 157,
   "metadata": {
    "execution": {
     "iopub.execute_input": "2023-03-18T16:38:17.722905Z",
     "iopub.status.busy": "2023-03-18T16:38:17.722557Z",
     "iopub.status.idle": "2023-03-18T16:38:17.730777Z",
     "shell.execute_reply": "2023-03-18T16:38:17.730037Z",
     "shell.execute_reply.started": "2023-03-18T16:38:17.722865Z"
    }
   },
   "outputs": [],
   "source": [
    "train_df, test_df = train_test_split(\n",
    "    all_df.sample(1000, random_state=1),\n",
    "    train_size=0.7,\n",
    "    shuffle=True,\n",
    "    random_state=1\n",
    ")"
   ]
  },
  {
   "cell_type": "markdown",
   "metadata": {},
   "source": [
    "# Loading Image Data"
   ]
  },
  {
   "cell_type": "code",
   "execution_count": 158,
   "metadata": {
    "execution": {
     "iopub.execute_input": "2023-03-18T16:38:17.732512Z",
     "iopub.status.busy": "2023-03-18T16:38:17.732126Z",
     "iopub.status.idle": "2023-03-18T16:38:17.738521Z",
     "shell.execute_reply": "2023-03-18T16:38:17.737544Z",
     "shell.execute_reply.started": "2023-03-18T16:38:17.732472Z"
    }
   },
   "outputs": [],
   "source": [
    "train_gen = tf.keras.preprocessing.image.ImageDataGenerator(\n",
    "    rescale=1./255,\n",
    "    validation_split=0.2\n",
    ")\n",
    "\n",
    "test_gen = tf.keras.preprocessing.image.ImageDataGenerator(\n",
    "    rescale=1./255\n",
    ")"
   ]
  },
  {
   "cell_type": "code",
   "execution_count": 159,
   "metadata": {
    "execution": {
     "iopub.execute_input": "2023-03-18T16:38:17.740577Z",
     "iopub.status.busy": "2023-03-18T16:38:17.740027Z",
     "iopub.status.idle": "2023-03-18T16:38:17.781345Z",
     "shell.execute_reply": "2023-03-18T16:38:17.780497Z",
     "shell.execute_reply.started": "2023-03-18T16:38:17.740542Z"
    }
   },
   "outputs": [
    {
     "name": "stdout",
     "output_type": "stream",
     "text": [
      "Found 560 validated image filenames belonging to 2 classes.\n",
      "Found 140 validated image filenames belonging to 2 classes.\n",
      "Found 300 validated image filenames belonging to 2 classes.\n"
     ]
    }
   ],
   "source": [
    "train_data = train_gen.flow_from_dataframe(\n",
    "    train_df,\n",
    "    x_col='Filepath',\n",
    "    y_col='Label',\n",
    "    target_size=(120, 120),\n",
    "    color_mode='rgb',\n",
    "    class_mode='binary',\n",
    "    batch_size=32,\n",
    "    shuffle=True,\n",
    "    seed=42,\n",
    "    subset='training'\n",
    ")\n",
    "\n",
    "val_data = train_gen.flow_from_dataframe(\n",
    "    train_df,\n",
    "    x_col='Filepath',\n",
    "    y_col='Label',\n",
    "    target_size=(120, 120),\n",
    "    color_mode='rgb',\n",
    "    class_mode='binary',\n",
    "    batch_size=32,\n",
    "    shuffle=True,\n",
    "    seed=42,\n",
    "    subset='validation'\n",
    ")\n",
    "\n",
    "test_data = train_gen.flow_from_dataframe(\n",
    "    test_df,\n",
    "    x_col='Filepath',\n",
    "    y_col='Label',\n",
    "    target_size=(120, 120),\n",
    "    color_mode='rgb',\n",
    "    class_mode='binary',\n",
    "    batch_size=32,\n",
    "    shuffle=False,\n",
    "    seed=42\n",
    ")"
   ]
  },
  {
   "cell_type": "markdown",
   "metadata": {},
   "source": [
    "# Training"
   ]
  },
  {
   "cell_type": "code",
   "execution_count": 160,
   "metadata": {
    "execution": {
     "iopub.execute_input": "2023-03-18T16:38:17.784128Z",
     "iopub.status.busy": "2023-03-18T16:38:17.783613Z",
     "iopub.status.idle": "2023-03-18T16:38:17.831131Z",
     "shell.execute_reply": "2023-03-18T16:38:17.830032Z",
     "shell.execute_reply.started": "2023-03-18T16:38:17.784089Z"
    }
   },
   "outputs": [
    {
     "name": "stdout",
     "output_type": "stream",
     "text": [
      "Model: \"model_9\"\n",
      "_________________________________________________________________\n",
      "Layer (type)                 Output Shape              Param #   \n",
      "=================================================================\n",
      "input_10 (InputLayer)        [(None, 120, 120, 3)]     0         \n",
      "_________________________________________________________________\n",
      "conv2d_18 (Conv2D)           (None, 118, 118, 16)      448       \n",
      "_________________________________________________________________\n",
      "max_pooling2d_18 (MaxPooling (None, 59, 59, 16)        0         \n",
      "_________________________________________________________________\n",
      "conv2d_19 (Conv2D)           (None, 57, 57, 32)        4640      \n",
      "_________________________________________________________________\n",
      "max_pooling2d_19 (MaxPooling (None, 28, 28, 32)        0         \n",
      "_________________________________________________________________\n",
      "global_average_pooling2d_9 ( (None, 32)                0         \n",
      "_________________________________________________________________\n",
      "dense_9 (Dense)              (None, 1)                 33        \n",
      "=================================================================\n",
      "Total params: 5,121\n",
      "Trainable params: 5,121\n",
      "Non-trainable params: 0\n",
      "_________________________________________________________________\n",
      "None\n"
     ]
    }
   ],
   "source": [
    "inputs = tf.keras.Input(shape=(120, 120, 3))\n",
    "x = tf.keras.layers.Conv2D(filters=16, kernel_size=(3, 3), activation='relu')(inputs)\n",
    "x = tf.keras.layers.MaxPool2D(pool_size=(2, 2))(x)\n",
    "x = tf.keras.layers.Conv2D(filters=32, kernel_size=(3, 3), activation='relu')(x)\n",
    "x = tf.keras.layers.MaxPool2D(pool_size=(2, 2))(x)\n",
    "x = tf.keras.layers.GlobalAveragePooling2D()(x)\n",
    "outputs = tf.keras.layers.Dense(1, activation='sigmoid')(x)\n",
    "\n",
    "model = tf.keras.Model(inputs=inputs, outputs=outputs)\n",
    "\n",
    "model.compile(\n",
    "    optimizer='adam',\n",
    "    loss='binary_crossentropy',\n",
    "    metrics=['accuracy']\n",
    ")\n",
    "\n",
    "print(model.summary())"
   ]
  },
  {
   "cell_type": "code",
   "execution_count": 161,
   "metadata": {
    "execution": {
     "iopub.execute_input": "2023-03-18T16:38:17.834826Z",
     "iopub.status.busy": "2023-03-18T16:38:17.834385Z",
     "iopub.status.idle": "2023-03-18T16:39:18.328028Z",
     "shell.execute_reply": "2023-03-18T16:39:18.327334Z",
     "shell.execute_reply.started": "2023-03-18T16:38:17.834791Z"
    }
   },
   "outputs": [
    {
     "name": "stdout",
     "output_type": "stream",
     "text": [
      "Epoch 1/50\n",
      "18/18 [==============================] - 2s 85ms/step - loss: 0.7054 - accuracy: 0.5486 - val_loss: 0.6868 - val_accuracy: 0.7286\n",
      "Epoch 2/50\n",
      "18/18 [==============================] - 1s 67ms/step - loss: 0.6853 - accuracy: 0.5900 - val_loss: 0.6847 - val_accuracy: 0.5286\n",
      "Epoch 3/50\n",
      "18/18 [==============================] - 1s 72ms/step - loss: 0.6822 - accuracy: 0.5449 - val_loss: 0.6802 - val_accuracy: 0.5000\n",
      "Epoch 4/50\n",
      "18/18 [==============================] - 1s 65ms/step - loss: 0.6782 - accuracy: 0.5826 - val_loss: 0.6781 - val_accuracy: 0.4857\n",
      "Epoch 5/50\n",
      "18/18 [==============================] - 1s 61ms/step - loss: 0.6766 - accuracy: 0.5483 - val_loss: 0.6637 - val_accuracy: 0.6357\n",
      "Epoch 6/50\n",
      "18/18 [==============================] - 1s 62ms/step - loss: 0.6621 - accuracy: 0.6899 - val_loss: 0.6516 - val_accuracy: 0.5286\n",
      "Epoch 7/50\n",
      "18/18 [==============================] - 1s 63ms/step - loss: 0.6493 - accuracy: 0.6115 - val_loss: 0.6384 - val_accuracy: 0.5786\n",
      "Epoch 8/50\n",
      "18/18 [==============================] - 1s 64ms/step - loss: 0.6372 - accuracy: 0.6564 - val_loss: 0.6368 - val_accuracy: 0.5286\n",
      "Epoch 9/50\n",
      "18/18 [==============================] - 1s 61ms/step - loss: 0.6214 - accuracy: 0.6219 - val_loss: 0.6096 - val_accuracy: 0.8643\n",
      "Epoch 10/50\n",
      "18/18 [==============================] - 1s 61ms/step - loss: 0.6178 - accuracy: 0.7496 - val_loss: 0.5896 - val_accuracy: 0.8714\n",
      "Epoch 11/50\n",
      "18/18 [==============================] - 1s 63ms/step - loss: 0.5901 - accuracy: 0.7787 - val_loss: 0.5824 - val_accuracy: 0.6214\n",
      "Epoch 12/50\n",
      "18/18 [==============================] - 1s 74ms/step - loss: 0.5943 - accuracy: 0.7421 - val_loss: 0.5622 - val_accuracy: 0.7286\n",
      "Epoch 13/50\n",
      "18/18 [==============================] - 2s 85ms/step - loss: 0.5576 - accuracy: 0.7608 - val_loss: 0.5213 - val_accuracy: 0.7857\n",
      "Epoch 14/50\n",
      "18/18 [==============================] - 1s 62ms/step - loss: 0.5531 - accuracy: 0.7900 - val_loss: 0.5259 - val_accuracy: 0.7571\n",
      "Epoch 15/50\n",
      "18/18 [==============================] - 1s 69ms/step - loss: 0.5352 - accuracy: 0.8004 - val_loss: 0.4767 - val_accuracy: 0.8857\n",
      "Epoch 16/50\n",
      "18/18 [==============================] - 1s 66ms/step - loss: 0.5009 - accuracy: 0.8354 - val_loss: 0.4844 - val_accuracy: 0.8643\n",
      "Epoch 17/50\n",
      "18/18 [==============================] - 1s 65ms/step - loss: 0.4894 - accuracy: 0.8584 - val_loss: 0.4547 - val_accuracy: 0.9214\n",
      "Epoch 18/50\n",
      "18/18 [==============================] - 1s 63ms/step - loss: 0.4731 - accuracy: 0.8836 - val_loss: 0.4856 - val_accuracy: 0.8357\n",
      "Epoch 19/50\n",
      "18/18 [==============================] - 1s 64ms/step - loss: 0.4570 - accuracy: 0.8496 - val_loss: 0.4377 - val_accuracy: 0.9000\n",
      "Epoch 20/50\n",
      "18/18 [==============================] - 1s 62ms/step - loss: 0.4366 - accuracy: 0.8756 - val_loss: 0.4607 - val_accuracy: 0.8429\n",
      "Epoch 21/50\n",
      "18/18 [==============================] - 1s 73ms/step - loss: 0.4173 - accuracy: 0.8947 - val_loss: 0.3955 - val_accuracy: 0.9071\n",
      "Epoch 22/50\n",
      "18/18 [==============================] - 1s 61ms/step - loss: 0.3879 - accuracy: 0.9261 - val_loss: 0.3559 - val_accuracy: 0.9143\n",
      "Epoch 23/50\n",
      "18/18 [==============================] - 1s 62ms/step - loss: 0.3513 - accuracy: 0.9225 - val_loss: 0.3509 - val_accuracy: 0.9071\n",
      "Epoch 24/50\n",
      "18/18 [==============================] - 1s 62ms/step - loss: 0.3478 - accuracy: 0.9104 - val_loss: 0.3552 - val_accuracy: 0.9000\n",
      "Epoch 25/50\n",
      "18/18 [==============================] - 1s 62ms/step - loss: 0.3322 - accuracy: 0.9124 - val_loss: 0.3464 - val_accuracy: 0.9000\n",
      "Epoch 26/50\n",
      "18/18 [==============================] - 1s 61ms/step - loss: 0.3259 - accuracy: 0.9146 - val_loss: 0.3333 - val_accuracy: 0.9071\n",
      "Epoch 27/50\n",
      "18/18 [==============================] - 1s 62ms/step - loss: 0.3028 - accuracy: 0.9266 - val_loss: 0.2855 - val_accuracy: 0.9286\n",
      "Epoch 28/50\n",
      "18/18 [==============================] - 1s 69ms/step - loss: 0.2676 - accuracy: 0.9395 - val_loss: 0.2860 - val_accuracy: 0.9143\n",
      "Epoch 29/50\n",
      "18/18 [==============================] - 1s 64ms/step - loss: 0.3008 - accuracy: 0.9343 - val_loss: 0.2605 - val_accuracy: 0.9357\n",
      "Epoch 30/50\n",
      "18/18 [==============================] - 1s 67ms/step - loss: 0.2678 - accuracy: 0.9382 - val_loss: 0.2481 - val_accuracy: 0.9429\n",
      "Epoch 31/50\n",
      "18/18 [==============================] - 1s 71ms/step - loss: 0.2696 - accuracy: 0.9322 - val_loss: 0.2548 - val_accuracy: 0.9214\n",
      "Epoch 32/50\n",
      "18/18 [==============================] - 1s 61ms/step - loss: 0.2884 - accuracy: 0.9444 - val_loss: 0.2354 - val_accuracy: 0.9357\n",
      "Epoch 33/50\n",
      "18/18 [==============================] - 1s 62ms/step - loss: 0.2215 - accuracy: 0.9485 - val_loss: 0.2385 - val_accuracy: 0.9214\n",
      "Epoch 34/50\n",
      "18/18 [==============================] - 1s 61ms/step - loss: 0.2977 - accuracy: 0.9384 - val_loss: 0.2221 - val_accuracy: 0.9429\n",
      "Epoch 35/50\n",
      "18/18 [==============================] - 1s 63ms/step - loss: 0.2082 - accuracy: 0.9632 - val_loss: 0.2330 - val_accuracy: 0.9143\n",
      "Epoch 36/50\n",
      "18/18 [==============================] - 1s 63ms/step - loss: 0.2250 - accuracy: 0.9497 - val_loss: 0.2056 - val_accuracy: 0.9429\n",
      "Epoch 37/50\n",
      "18/18 [==============================] - 1s 73ms/step - loss: 0.2045 - accuracy: 0.9454 - val_loss: 0.1996 - val_accuracy: 0.9357\n",
      "Epoch 38/50\n",
      "18/18 [==============================] - 1s 66ms/step - loss: 0.2266 - accuracy: 0.9475 - val_loss: 0.1904 - val_accuracy: 0.9571\n",
      "Epoch 39/50\n",
      "18/18 [==============================] - 1s 64ms/step - loss: 0.2107 - accuracy: 0.9403 - val_loss: 0.1856 - val_accuracy: 0.9429\n",
      "Epoch 40/50\n",
      "18/18 [==============================] - 2s 102ms/step - loss: 0.1882 - accuracy: 0.9543 - val_loss: 0.2279 - val_accuracy: 0.9071\n",
      "Epoch 41/50\n",
      "18/18 [==============================] - 1s 64ms/step - loss: 0.1966 - accuracy: 0.9567 - val_loss: 0.1843 - val_accuracy: 0.9357\n",
      "Epoch 42/50\n",
      "18/18 [==============================] - 1s 64ms/step - loss: 0.1904 - accuracy: 0.9619 - val_loss: 0.1722 - val_accuracy: 0.9571\n",
      "Epoch 43/50\n",
      "18/18 [==============================] - 1s 63ms/step - loss: 0.2161 - accuracy: 0.9559 - val_loss: 0.1681 - val_accuracy: 0.9429\n",
      "Epoch 44/50\n",
      "18/18 [==============================] - 1s 65ms/step - loss: 0.1542 - accuracy: 0.9603 - val_loss: 0.1685 - val_accuracy: 0.9357\n",
      "Epoch 45/50\n",
      "18/18 [==============================] - 1s 62ms/step - loss: 0.1886 - accuracy: 0.9510 - val_loss: 0.1598 - val_accuracy: 0.9714\n",
      "Epoch 46/50\n",
      "18/18 [==============================] - 1s 64ms/step - loss: 0.1616 - accuracy: 0.9597 - val_loss: 0.1597 - val_accuracy: 0.9429\n",
      "Epoch 47/50\n",
      "18/18 [==============================] - 1s 62ms/step - loss: 0.1861 - accuracy: 0.9643 - val_loss: 0.1629 - val_accuracy: 0.9429\n",
      "Epoch 48/50\n",
      "18/18 [==============================] - 1s 64ms/step - loss: 0.1385 - accuracy: 0.9707 - val_loss: 0.1500 - val_accuracy: 0.9500\n",
      "Epoch 49/50\n",
      "18/18 [==============================] - 1s 73ms/step - loss: 0.1866 - accuracy: 0.9652 - val_loss: 0.1431 - val_accuracy: 0.9571\n",
      "Epoch 50/50\n",
      "18/18 [==============================] - 1s 66ms/step - loss: 0.1262 - accuracy: 0.9720 - val_loss: 0.1539 - val_accuracy: 0.9357\n"
     ]
    }
   ],
   "source": [
    "history = model.fit(\n",
    "    train_data,\n",
    "    validation_data=val_data,\n",
    "    epochs=50,\n",
    "    callbacks=[\n",
    "        tf.keras.callbacks.EarlyStopping(\n",
    "            monitor='val_loss',\n",
    "            patience=3,\n",
    "            restore_best_weights=True\n",
    "        )\n",
    "    ]\n",
    ")"
   ]
  },
  {
   "cell_type": "code",
   "execution_count": 171,
   "metadata": {
    "execution": {
     "iopub.execute_input": "2023-03-18T16:40:15.418015Z",
     "iopub.status.busy": "2023-03-18T16:40:15.417690Z",
     "iopub.status.idle": "2023-03-18T16:40:15.571144Z",
     "shell.execute_reply": "2023-03-18T16:40:15.570248Z",
     "shell.execute_reply.started": "2023-03-18T16:40:15.417984Z"
    }
   },
   "outputs": [
    {
     "data": {
      "image/png": "[encoded data removed]",
      "text/plain": [
       "<Figure size 432x288 with 1 Axes>"
      ]
     },
     "metadata": {
      "needs_background": "light"
     },
     "output_type": "display_data"
    }
   ],
   "source": [
    "plt.plot(history.history['loss'])\n",
    "plt.plot(history.history['val_loss'])\n",
    "plt.title('Training and Validation Loss Over Time')\n",
    "plt.xlabel('Epoch')\n",
    "plt.ylabel('Loss')\n",
    "plt.legend(['train_loss', 'val_loss'])\n",
    "plt.show()\n"
   ]
  },
  {
   "cell_type": "markdown",
   "metadata": {},
   "source": [
    "# Results"
   ]
  },
  {
   "cell_type": "code",
   "execution_count": 163,
   "metadata": {
    "execution": {
     "iopub.execute_input": "2023-03-18T16:39:18.395861Z",
     "iopub.status.busy": "2023-03-18T16:39:18.395519Z",
     "iopub.status.idle": "2023-03-18T16:39:18.403627Z",
     "shell.execute_reply": "2023-03-18T16:39:18.402660Z",
     "shell.execute_reply.started": "2023-03-18T16:39:18.395825Z"
    }
   },
   "outputs": [],
   "source": [
    "def evaluate_model(model, test_data):\n",
    "    \n",
    "    results = model.evaluate(test_data, verbose=0)\n",
    "    loss = results[0]\n",
    "    acc = results[1]\n",
    "    \n",
    "    print(\"    Test Loss: {:.5f}\".format(loss))\n",
    "    print(\"Test Accuracy: {:.2f}%\".format(acc * 100))\n",
    "    \n",
    "    y_pred = np.squeeze((model.predict(test_data) >= 0.5).astype(np.int))\n",
    "    cm = confusion_matrix(test_data.labels, y_pred)\n",
    "    clr = classification_report(test_data.labels, y_pred, target_names=[\"NEGATIVE\", \"POSITIVE\"])\n",
    "    \n",
    "    plt.figure(figsize=(6, 6))\n",
    "    sns.heatmap(cm, annot=True, fmt='g', vmin=0, cmap='Blues', cbar=False)\n",
    "    plt.xticks(ticks=np.arange(2) + 0.5, labels=[\"NEGATIVE\", \"POSITIVE\"])\n",
    "    plt.yticks(ticks=np.arange(2) + 0.5, labels=[\"NEGATIVE\", \"POSITIVE\"])\n",
    "    plt.xlabel(\"Predicted\")\n",
    "    plt.ylabel(\"Actual\")\n",
    "    plt.title(\"Confusion Matrix\")\n",
    "    plt.show()\n",
    "    \n",
    "    print(\"Classification Report:\\n----------------------\\n\", clr)"
   ]
  },
  {
   "cell_type": "code",
   "execution_count": 164,
   "metadata": {
    "execution": {
     "iopub.execute_input": "2023-03-18T16:39:18.405634Z",
     "iopub.status.busy": "2023-03-18T16:39:18.405310Z",
     "iopub.status.idle": "2023-03-18T16:39:19.567570Z",
     "shell.execute_reply": "2023-03-18T16:39:19.566652Z",
     "shell.execute_reply.started": "2023-03-18T16:39:18.405600Z"
    }
   },
   "outputs": [
    {
     "name": "stdout",
     "output_type": "stream",
     "text": [
      "    Test Loss: 0.14669\n",
      "Test Accuracy: 94.00%\n"
     ]
    },
    {
     "data": {
      "image/png": "[encoded data removed]",
      "text/plain": [
       "<Figure size 432x432 with 1 Axes>"
      ]
     },
     "metadata": {
      "needs_background": "light"
     },
     "output_type": "display_data"
    },
    {
     "name": "stdout",
     "output_type": "stream",
     "text": [
      "Classification Report:\n",
      "----------------------\n",
      "               precision    recall  f1-score   support\n",
      "\n",
      "    NEGATIVE       0.90      0.99      0.94       146\n",
      "    POSITIVE       0.99      0.89      0.94       154\n",
      "\n",
      "    accuracy                           0.94       300\n",
      "   macro avg       0.94      0.94      0.94       300\n",
      "weighted avg       0.95      0.94      0.94       300\n",
      "\n"
     ]
    }
   ],
   "source": [
    "evaluate_model(model, test_data)"
   ]
  },
  {
   "cell_type": "markdown",
   "metadata": {},
   "source": [
    "# Apply Gabor Filter"
   ]
  },
  {
   "cell_type": "code",
   "execution_count": 165,
   "metadata": {
    "execution": {
     "iopub.execute_input": "2023-03-18T16:39:19.569598Z",
     "iopub.status.busy": "2023-03-18T16:39:19.568992Z",
     "iopub.status.idle": "2023-03-18T16:39:19.574514Z",
     "shell.execute_reply": "2023-03-18T16:39:19.573659Z",
     "shell.execute_reply.started": "2023-03-18T16:39:19.569557Z"
    }
   },
   "outputs": [],
   "source": [
    "import cv2\n",
    "from scipy import ndimage as ndi\n",
    "\n",
    "# Define the Gabor filter parameters\n",
    "ksize = 9  # kernel size\n",
    "sigma = 0.5  # Standard deviation of the Gaussian function\n",
    "theta = np.pi / 4  # Orientation of the Gabor filter\n",
    "lamda = np.pi / 2  # Wavelength of the sinusoidal factor\n",
    "gamma = 0.5  # Spatial aspect ratio"
   ]
  },
  {
   "cell_type": "code",
   "execution_count": 166,
   "metadata": {
    "execution": {
     "iopub.execute_input": "2023-03-18T16:39:19.576471Z",
     "iopub.status.busy": "2023-03-18T16:39:19.576091Z",
     "iopub.status.idle": "2023-03-18T16:39:19.586977Z",
     "shell.execute_reply": "2023-03-18T16:39:19.586346Z",
     "shell.execute_reply.started": "2023-03-18T16:39:19.576434Z"
    }
   },
   "outputs": [],
   "source": [
    "# Create the Gabor filter kernel\n",
    "kernel = cv2.getGaborKernel((ksize, ksize), sigma, theta, lamda, gamma, 0, ktype=cv2.CV_32F)"
   ]
  },
  {
   "cell_type": "code",
   "execution_count": 167,
   "metadata": {
    "execution": {
     "iopub.execute_input": "2023-03-18T16:39:19.588837Z",
     "iopub.status.busy": "2023-03-18T16:39:19.588440Z",
     "iopub.status.idle": "2023-03-18T16:39:19.597350Z",
     "shell.execute_reply": "2023-03-18T16:39:19.596682Z",
     "shell.execute_reply.started": "2023-03-18T16:39:19.588800Z"
    }
   },
   "outputs": [],
   "source": [
    "def apply_gabor_filter(image):\n",
    "    # Convert the image to grayscale\n",
    "    gray = cv2.cvtColor(image, cv2.COLOR_RGB2GRAY)\n",
    "    # Apply the Gabor filter kernel to the image\n",
    "    filtered = ndi.convolve(gray, kernel, mode='wrap')\n",
    "    return filtered.reshape(image.shape)"
   ]
  },
  {
   "cell_type": "code",
   "execution_count": 168,
   "metadata": {
    "execution": {
     "iopub.execute_input": "2023-03-18T16:39:19.599006Z",
     "iopub.status.busy": "2023-03-18T16:39:19.598659Z",
     "iopub.status.idle": "2023-03-18T16:39:19.608915Z",
     "shell.execute_reply": "2023-03-18T16:39:19.608282Z",
     "shell.execute_reply.started": "2023-03-18T16:39:19.598971Z"
    }
   },
   "outputs": [],
   "source": [
    "# Modify the data generator to apply Gabor filter to the images\n",
    "train_gen = tf.keras.preprocessing.image.ImageDataGenerator(\n",
    "    rescale=1./255,\n",
    "    validation_split=0.2,\n",
    "    preprocessing_function=apply_gabor_filter\n",
    ")"
   ]
  },
  {
   "cell_type": "code",
   "execution_count": 169,
   "metadata": {
    "execution": {
     "iopub.execute_input": "2023-03-18T16:39:19.611595Z",
     "iopub.status.busy": "2023-03-18T16:39:19.611262Z",
     "iopub.status.idle": "2023-03-18T16:39:19.630796Z",
     "shell.execute_reply": "2023-03-18T16:39:19.629968Z",
     "shell.execute_reply.started": "2023-03-18T16:39:19.611558Z"
    }
   },
   "outputs": [
    {
     "name": "stdout",
     "output_type": "stream",
     "text": [
      "Found 140 validated image filenames belonging to 2 classes.\n"
     ]
    }
   ],
   "source": [
    "val_data = train_gen.flow_from_dataframe(\n",
    "    train_df,\n",
    "    x_col='Filepath',\n",
    "    y_col='Label',\n",
    "    target_size=(120, 120),\n",
    "    color_mode='rgb',\n",
    "    class_mode='binary',\n",
    "    batch_size=32,\n",
    "    shuffle=True,\n",
    "    seed=42,\n",
    "    subset='validation'\n",
    ")\n"
   ]
  },
  {
   "cell_type": "code",
   "execution_count": 170,
   "metadata": {
    "execution": {
     "iopub.execute_input": "2023-03-18T16:39:19.632381Z",
     "iopub.status.busy": "2023-03-18T16:39:19.632043Z",
     "iopub.status.idle": "2023-03-18T16:39:19.646666Z",
     "shell.execute_reply": "2023-03-18T16:39:19.645771Z",
     "shell.execute_reply.started": "2023-03-18T16:39:19.632348Z"
    }
   },
   "outputs": [
    {
     "name": "stdout",
     "output_type": "stream",
     "text": [
      "Found 300 validated image filenames belonging to 2 classes.\n"
     ]
    }
   ],
   "source": [
    "test_data = train_gen.flow_from_dataframe(\n",
    "    test_df,\n",
    "    x_col='Filepath',\n",
    "    y_col='Label',\n",
    "    target_size=(120, 120),\n",
    "    color_mode='rgb',\n",
    "    class_mode='binary',\n",
    "    batch_size=32,\n",
    "    shuffle=False,\n",
    "    seed=42\n",
    ")"
   ]
  },
  {
   "cell_type": "markdown",
   "metadata": {},
   "source": [
    "Note that we have defined a function apply_gabor_filter that applies the Gabor filter kernel to the input image. We then modify the data generator"
   ]
  },
  {
   "cell_type": "code",
   "execution_count": null,
   "metadata": {},
   "outputs": [],
   "source": []
  }
 ],
 "metadata": {
  "kernelspec": {
   "display_name": "Python 3 (ipykernel)",
   "language": "python",
   "name": "python3"
  },
  "language_info": {
   "codemirror_mode": {
    "name": "ipython",
    "version": 3
   },
   "file_extension": ".py",
   "mimetype": "text/x-python",
   "name": "python",
   "nbconvert_exporter": "python",
   "pygments_lexer": "ipython3",
   "version": "3.9.12"
  }
 },
 "nbformat": 4,
 "nbformat_minor": 4
}
